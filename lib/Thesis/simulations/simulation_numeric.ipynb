{
 "cells": [
  {
   "cell_type": "code",
   "execution_count": 11,
   "outputs": [],
   "source": [
    "import pandas as pd\n",
    "import numpy as np\n",
    "from ast import literal_eval\n"
   ],
   "metadata": {
    "collapsed": false,
    "pycharm": {
     "name": "#%%\n"
    }
   }
  },
  {
   "cell_type": "code",
   "execution_count": 12,
   "outputs": [],
   "source": [
    "s_list = [\"s1\", \"s2\", \"s3\", \"s4\"]\n",
    "data = {}\n",
    "\n",
    "for s in s_list:\n",
    "    filename = [\"GA1/GA1_{}\".format(s), \"GA2/GA2_{}\".format(s),\n",
    "                \"GA3/GA3_{}\".format(s), \"RS/RS_{}\".format(s)]\n",
    "    file_out = [\"GA1\", \"GA2\", \"GA3\", \"RS\"]\n",
    "\n",
    "    history_last_list = []\n",
    "    tscc_list = []\n",
    "    tscc_last_list = []\n",
    "    tscc_means = []\n",
    "\n",
    "    for GA in filename:\n",
    "        tscc = pd.read_csv(GA+\"_tscc.csv\", index_col=\"Unnamed: 0\")\n",
    "        tscc_last = tscc.iloc[-1,:].values.tolist()\n",
    "        tscc_list.append(tscc)\n",
    "        tscc_last_list.append(tscc_last)\n",
    "        tscc_means.append(tscc['Mean'].values.tolist()[-1])\n",
    "\n",
    "        history = pd.read_csv(GA+\"_history.csv\", index_col=\"Unnamed: 0\")\n",
    "        history_last = history.iloc[-1,:].values.tolist()\n",
    "        history_last = [literal_eval(x)['CHROM'] for x in history_last]\n",
    "        history_last_list.append(history_last)\n",
    "        last_levels = []\n",
    "\n",
    "    data[s] = {'hll': history_last_list,\n",
    "               'tl': tscc_list,\n",
    "               'tll': tscc_last_list,\n",
    "               'tmeans': tscc_means}"
   ],
   "metadata": {
    "collapsed": false,
    "pycharm": {
     "name": "#%%\n"
    }
   }
  },
  {
   "cell_type": "code",
   "execution_count": 13,
   "outputs": [],
   "source": [
    "dict2 = {}\n",
    "for s in s_list:\n",
    "    #print(data[s]['hll'])\n",
    "    tscc_min_index = [np.argmin(x) for x in data[s]['tll']]\n",
    "    tscc_mins = [np.min(x) for x in data[s]['tll']]\n",
    "    level_mins = list(map(list, zip(*[x[i] for x, i in zip(data[s]['hll'], tscc_min_index)])))\n",
    "    dict2[s] = {'R': level_mins[0],\n",
    "                'D': level_mins[1],\n",
    "                'M': level_mins[2],\n",
    "                'S': level_mins[3],\n",
    "                'tmins': tscc_mins,\n",
    "                'tmeans': data[s]['tmeans']}\n",
    "\n",
    "df = pd.concat([pd.DataFrame(dict2['s1']), pd.DataFrame(dict2['s2']),\n",
    "                pd.DataFrame(dict2['s3']), pd.DataFrame(dict2['s4'])])\n",
    "\n",
    "#df.to_csv(\"Data.csv\")"
   ],
   "metadata": {
    "collapsed": false,
    "pycharm": {
     "name": "#%%\n"
    }
   }
  },
  {
   "cell_type": "code",
   "execution_count": 16,
   "outputs": [],
   "source": [
    "dict3 = {}\n",
    "for s in s_list:\n",
    "    tscc_last_sd = [np.std(x) for x in data[s]['tll']]\n",
    "    levels_last_sd = [[np.std([x[0] for x in y]), np.std([x[1] for x in y]), np.std([x[2] for x in y]), np.std([x[3] for x in y])] for y in data[s]['hll']]\n",
    "    dict3[s] = {'R': levels_last_sd[0],\n",
    "                'D': levels_last_sd[1],\n",
    "                'M': levels_last_sd[2],\n",
    "                'S': levels_last_sd[3],\n",
    "                'tscc_sd': tscc_last_sd}\n",
    "\n",
    "df2 = pd.concat([pd.DataFrame(dict3['s1']), pd.DataFrame(dict3['s2']),\n",
    "                pd.DataFrame(dict3['s3']), pd.DataFrame(dict3['s4'])])\n",
    "\n",
    "df2 = np.round(df2, 4)\n",
    "#df2.to_csv(\"SD_Data.csv\")"
   ],
   "metadata": {
    "collapsed": false,
    "pycharm": {
     "name": "#%%\n"
    }
   }
  },
  {
   "cell_type": "code",
   "execution_count": null,
   "outputs": [],
   "source": [
    "\n"
   ],
   "metadata": {
    "collapsed": false,
    "pycharm": {
     "name": "#%%\n"
    }
   }
  }
 ],
 "metadata": {
  "kernelspec": {
   "display_name": "Python 3",
   "language": "python",
   "name": "python3"
  },
  "language_info": {
   "codemirror_mode": {
    "name": "ipython",
    "version": 2
   },
   "file_extension": ".py",
   "mimetype": "text/x-python",
   "name": "python",
   "nbconvert_exporter": "python",
   "pygments_lexer": "ipython2",
   "version": "2.7.6"
  }
 },
 "nbformat": 4,
 "nbformat_minor": 0
}