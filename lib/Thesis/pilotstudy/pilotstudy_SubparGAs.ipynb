{
 "cells": [
  {
   "cell_type": "code",
   "execution_count": 8,
   "outputs": [],
   "source": [
    "%matplotlib inline\n",
    "import pandas as pd\n",
    "import numpy as np\n",
    "import matplotlib.pyplot as plt"
   ],
   "metadata": {
    "collapsed": false,
    "pycharm": {
     "name": "#%%\n"
    }
   }
  },
  {
   "cell_type": "code",
   "execution_count": 9,
   "metadata": {
    "collapsed": true
   },
   "outputs": [],
   "source": [
    "s1 = pd.read_csv(\"results/GA4/GA4_S1.csv\", index_col=\"Unnamed: 0\")\n",
    "s2 = pd.read_csv(\"results/GA4/GA4_S2.csv\", index_col=\"Unnamed: 0\")\n",
    "s3 = pd.read_csv(\"results/GA4/GA4_S3.csv\", index_col=\"Unnamed: 0\")\n",
    "s4 = pd.read_csv(\"results/GA4/GA4_S4.csv\", index_col=\"Unnamed: 0\")"
   ]
  },
  {
   "cell_type": "code",
   "execution_count": 10,
   "outputs": [],
   "source": [
    "mxs = [0.1, 0.2, 0.3]\n",
    "mps = [0.6, 0.7, 0.8]\n",
    "crs = [0.7, 0.8, 0.9]\n",
    "\n",
    "index = l = [(i, j, k) for i in mxs for j in mps for k in crs]\n",
    "\n",
    "TSCC = pd.DataFrame([s1.TSCC, s2.TSCC, s3.TSCC, s4.TSCC]).T\n",
    "TSCC.columns = [\"S1\", \"S2\", \"S3\", \"S4\"]\n",
    "TSCC.index = index\n",
    "\n",
    "TSCC_rel = (TSCC - TSCC.min())/TSCC.min()\n",
    "TSCC_rel['MEAN'] = TSCC_rel.mean(axis=1)\n",
    "\n",
    "TSCC.to_csv(\"TSCC.csv\", header=True, index=True)\n",
    "TSCC_rel.to_csv(\"TSCC_rel.csv\", header=True, index=True)\n",
    "\n",
    "index = l = [(i, j, k) for i in mxs for j in mps for k in crs]\n",
    "\n",
    "TSCC = pd.DataFrame([s1.TSCC, s2.TSCC, s3.TSCC, s4.TSCC]).T\n",
    "TSCC.columns = [\"S1\", \"S2\", \"S3\", \"S4\"]\n",
    "TSCC.index = index\n",
    "\n",
    "TSCC_rel = (TSCC - TSCC.min())/TSCC.min()\n",
    "TSCC_rel['MEAN'] = TSCC_rel.mean(axis=1)"
   ],
   "metadata": {
    "collapsed": false,
    "pycharm": {
     "name": "#%%\n"
    }
   }
  },
  {
   "cell_type": "code",
   "execution_count": null,
   "outputs": [],
   "source": [
    "index = list(TSCC_rel.index)\n",
    "TSCC_rel[\"MX\"] = [x[0] for x in index]\n",
    "TSCC_rel[\"MP\"] = [x[1] for x in index]\n",
    "TSCC_rel[\"CR\"] = [x[2] for x in index]\n",
    "\n",
    "# Rearrange to see trends\n",
    "sort1 = TSCC_rel.sort_values(by=['CR', 'MP'])\n",
    "sort2 = TSCC_rel.sort_values(by=['CR', 'MX'])\n",
    "sort3 = TSCC_rel.sort_values(by=['MP', 'MX'])"
   ],
   "metadata": {
    "collapsed": false,
    "pycharm": {
     "name": "#%%\n"
    }
   }
  },
  {
   "cell_type": "code",
   "execution_count": null,
   "outputs": [],
   "source": [
    "fig = plt.figure(figsize=(12, 8), dpi=300)\n",
    "gs = fig.add_gridspec(3, 1)\n",
    "\n",
    "index = sort1.index.values\n",
    "ax1 = fig.add_subplot(gs[1, 0])\n",
    "ax1.plot([*range(len(sort1))], sort1[['MEAN']], linewidth=1)\n",
    "ax1.set_title('For each (MP, CR) setting: MX from [0.1, 0.2, ..., 0.5]', fontsize=10)\n",
    "ax1.tick_params(axis='both', which='major', labelsize=8)\n",
    "for x in [i for i in [*range(len(sort1))] if i%5==0]:\n",
    "    ax1.axvline(x, linewidth=0.5, color=\"red\", linestyle=\"dotted\")\n",
    "ax1.set_xticks([i for i in [*range(len(sort1))] if i%5==0])\n",
    "ax1.set_xticklabels([\"({}, {})\".format(l[1], l[2]) for i, l in enumerate(index) if i%5==0], rotation=90)\n",
    "ax1.set_ylabel(\"Relative fitness value\", fontsize=8)\n",
    "ax1.text(x=180, y=-0.1, s=\"(MP, CR)\", verticalalignment=\"center\")\n",
    "plt.margins(x=0)\n",
    "ax11 = ax1.twiny()\n",
    "ax11.set_xticks([i for i in [*range(len(sort1))] if i%2==0])\n",
    "ax11.set_xticklabels([\"{}\".format(l[0]) for i,l in enumerate(index) if i%2==0], rotation=90, fontsize=6)\n",
    "\n",
    "index = sort2.index.values\n",
    "ax2 = fig.add_subplot(gs[2, 0])\n",
    "ax2.plot([*range(len(sort1))], sort2[['MEAN']], linewidth=1)\n",
    "ax2.set_title('For each (CR, MX) setting: MP from [0.5, 0.6, ..., 1]', fontsize=10)\n",
    "ax2.tick_params(axis='both', which='major', labelsize=8)\n",
    "for x in [i for i in [*range(len(sort2))] if i%6==0]:\n",
    "    ax2.axvline(x, linewidth=0.5, color=\"red\", linestyle=\"dotted\")\n",
    "ax2.set_xticks([i for i in [*range(len(sort2))] if i%6==0])\n",
    "ax2.set_xticklabels([\"({}, {})\".format(l[0], l[2]) for i, l in enumerate(index) if i%6==0], rotation=90)\n",
    "ax2.set_ylabel(\"Relative fitness value\", fontsize=8)\n",
    "ax2.text(x=180, y=-0.1, s=\"(MX, CR)\", verticalalignment=\"center\")\n",
    "plt.margins(x=0)\n",
    "ax21 = ax2.twiny()\n",
    "ax21.set_xticks([i for i in [*range(len(sort2))] if i%2==0])\n",
    "ax21.set_xticklabels([\"{}\".format(l[1]) for i,l in enumerate(index) if i%2==0], rotation=90, fontsize=6)\n",
    "\n",
    "index = sort3.index.values\n",
    "ax3 = fig.add_subplot(gs[0, 0])\n",
    "ax3.plot([*range(len(sort3))], sort3[['MEAN']], linewidth=1)\n",
    "ax3.set_title('For each (MP, MX) setting: CR from [0.5, 0.6, ..., 1]', fontsize=10)\n",
    "ax3.tick_params(axis='both', which='major', labelsize=8)\n",
    "for x in [i for i in [*range(len(sort3))] if i%6==0]:\n",
    "    ax3.axvline(x, linewidth=0.5, color=\"red\", linestyle=\"dotted\")\n",
    "ax3.set_xticks([i for i in [*range(len(sort3))] if i%6==0])\n",
    "ax3.set_xticklabels([\"({}, {})\".format(l[0], l[1]) for i, l in enumerate(index) if i%6==0], rotation=90)\n",
    "ax3.set_ylabel(\"Relative fitness value\", fontsize=8)\n",
    "ax3.text(x=180, y=-0.1, s=\"(MX, MP)\", verticalalignment=\"center\")\n",
    "plt.margins(x=0)\n",
    "ax31 = ax3.twiny()\n",
    "ax31.set_xticks([i for i in [*range(len(sort3))] if i%2==0])\n",
    "ax31.set_xticklabels([\"{}\".format(l[2]) for i,l in enumerate(index) if i%2==0], rotation=90, fontsize=6)\n",
    "\n",
    "plt.subplots_adjust(hspace=1)\n",
    "plt.savefig(\"parameters.png\")"
   ],
   "metadata": {
    "collapsed": false,
    "pycharm": {
     "name": "#%%\n"
    }
   }
  },
  {
   "cell_type": "code",
   "execution_count": null,
   "outputs": [],
   "source": [
    "TSCC.to_csv(\"TSCC.csv\", header=True, index=True)\n",
    "TSCC_rel.to_csv(\"TSCC_rel.csv\", header=True, index=True)\n",
    "\n",
    "\n",
    "plt.figure(figsize=(8, 4), dpi=300)\n",
    "TSCC_rel.plot()\n",
    "plt.legend(loc=\"upper right\")\n",
    "plt.xlabel(\"Search space\")\n",
    "plt.ylabel(\"Relative Frequency of Solution\")\n",
    "plt.margins(0,0)"
   ],
   "metadata": {
    "collapsed": false,
    "pycharm": {
     "name": "#%%\n"
    }
   }
  }
 ],
 "metadata": {
  "kernelspec": {
   "display_name": "Python 3",
   "language": "python",
   "name": "python3"
  },
  "language_info": {
   "codemirror_mode": {
    "name": "ipython",
    "version": 2
   },
   "file_extension": ".py",
   "mimetype": "text/x-python",
   "name": "python",
   "nbconvert_exporter": "python",
   "pygments_lexer": "ipython2",
   "version": "2.7.6"
  }
 },
 "nbformat": 4,
 "nbformat_minor": 0
}