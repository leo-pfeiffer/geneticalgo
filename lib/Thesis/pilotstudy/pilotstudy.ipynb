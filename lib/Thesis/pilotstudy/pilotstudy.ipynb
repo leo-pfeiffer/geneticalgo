{
 "cells": [
  {
   "cell_type": "code",
   "execution_count": 1,
   "outputs": [],
   "source": [
    "%matplotlib inline\n",
    "import pandas as pd\n",
    "import matplotlib.pyplot as plt"
   ],
   "metadata": {
    "collapsed": false,
    "pycharm": {
     "name": "#%%\n"
    }
   }
  },
  {
   "cell_type": "code",
   "execution_count": 2,
   "outputs": [],
   "source": [
    "s1 = pd.read_csv(\"results/results_S1.csv\", index_col=\"Unnamed: 0\")\n",
    "s2 = pd.read_csv(\"results/results_S2.csv\", index_col=\"Unnamed: 0\")\n",
    "s3 = pd.read_csv(\"results/results_S3.csv\", index_col=\"Unnamed: 0\")\n",
    "s4 = pd.read_csv(\"results/results_S4.csv\", index_col=\"Unnamed: 0\")"
   ],
   "metadata": {
    "collapsed": false,
    "pycharm": {
     "name": "#%%\n"
    }
   }
  },
  {
   "cell_type": "code",
   "execution_count": 3,
   "outputs": [],
   "source": [
    "mxs = [0.1, 0.2, 0.3, 0.4, 0.5]\n",
    "mps = [0.5, 0.6, 0.7, 0.8, 0.9, 1]\n",
    "crs = [0.5, 0.6, 0.7, 0.8, 0.9, 1]\n",
    "\n",
    "index = l = [(i, j, k) for i in mxs for j in mps for k in crs]\n",
    "\n",
    "TSCC = pd.DataFrame([s1.TSCC, s2.TSCC, s3.TSCC, s4.TSCC]).T\n",
    "TSCC.columns = [\"S1\", \"S2\", \"S3\", \"S4\"]\n",
    "TSCC.index = index\n",
    "\n",
    "TSCC_rel = (TSCC - TSCC.min())/TSCC.min()\n",
    "TSCC_rel['MEAN'] = TSCC_rel.mean(axis=1)\n",
    "\n",
    "TSCC.to_csv(\"TSCC.csv\", header=True, index=True)\n",
    "TSCC_rel.to_csv(\"TSCC_rel.csv\", header=True, index=True)\n",
    "\n",
    "mxs = [0.1, 0.2, 0.3, 0.4, 0.5]\n",
    "mps = [0.5, 0.6, 0.7, 0.8, 0.9, 1]\n",
    "crs = [0.5, 0.6, 0.7, 0.8, 0.9, 1]\n",
    "\n",
    "index = l = [(i, j, k) for i in mxs for j in mps for k in crs]\n",
    "\n",
    "TSCC = pd.DataFrame([s1.TSCC, s2.TSCC, s3.TSCC, s4.TSCC]).T\n",
    "TSCC.columns = [\"S1\", \"S2\", \"S3\", \"S4\"]\n",
    "TSCC.index = index\n",
    "\n",
    "TSCC_rel = (TSCC - TSCC.min())/TSCC.min()\n",
    "TSCC_rel['MEAN'] = TSCC_rel.mean(axis=1)"
   ],
   "metadata": {
    "collapsed": false,
    "pycharm": {
     "name": "#%%\n"
    }
   }
  },
  {
   "cell_type": "code",
   "execution_count": 4,
   "outputs": [],
   "source": [
    "index = list(TSCC_rel.index)\n",
    "TSCC_rel[\"MX\"] = [x[0] for x in index]\n",
    "TSCC_rel[\"MP\"] = [x[1] for x in index]\n",
    "TSCC_rel[\"CR\"] = [x[2] for x in index]\n",
    "\n",
    "# Rearrange to see trends\n",
    "TSCC_rel.sort_values(by=['CR', 'MP'])\n",
    "TSCC_rel.sort_values(by=['CR', 'MX'])\n",
    "TSCC_rel.sort_values(by=['MP', 'MX'])"
   ],
   "metadata": {
    "collapsed": false,
    "pycharm": {
     "name": "#%%\n"
    }
   }
  },
  {
   "cell_type": "code",
   "execution_count": null,
   "outputs": [],
   "source": [
    "TSCC.to_csv(\"TSCC.csv\", header=True, index=True)\n",
    "TSCC_rel.to_csv(\"TSCC_rel.csv\", header=True, index=True)\n",
    "\n",
    "\n",
    "plt.figure(figsize=(8, 4), dpi=300)\n",
    "TSCC_rel.plot()\n",
    "plt.legend(loc=\"upper right\")\n",
    "plt.xlabel(\"Search space\")\n",
    "plt.ylabel(\"Relative Frequency of Solution\")\n",
    "plt.margins(0,0)"
   ],
   "metadata": {
    "collapsed": false,
    "pycharm": {
     "name": "#%%\n"
    }
   }
  }
 ],
 "metadata": {
  "kernelspec": {
   "display_name": "Python 3",
   "language": "python",
   "name": "python3"
  },
  "language_info": {
   "codemirror_mode": {
    "name": "ipython",
    "version": 2
   },
   "file_extension": ".py",
   "mimetype": "text/x-python",
   "name": "python",
   "nbconvert_exporter": "python",
   "pygments_lexer": "ipython2",
   "version": "2.7.6"
  }
 },
 "nbformat": 4,
 "nbformat_minor": 0
}