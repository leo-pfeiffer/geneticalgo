{
 "cells": [
  {
   "cell_type": "code",
   "execution_count": 1,
   "metadata": {
    "collapsed": true
   },
   "outputs": [],
   "source": [
    "import pandas as pd"
   ]
  },
  {
   "cell_type": "code",
   "execution_count": 2,
   "outputs": [],
   "source": [
    "A = pd.read_csv('temp/A.csv', index_col='Unnamed: 0')\n",
    "A2 = pd.read_csv('temp/A2.csv', index_col='Unnamed: 0')\n",
    "B = pd.read_csv('temp/B.csv', index_col='Unnamed: 0')\n",
    "B2 = pd.read_csv('temp/B2.csv', index_col='Unnamed: 0')"
   ],
   "metadata": {
    "collapsed": false,
    "pycharm": {
     "name": "#%%\n"
    }
   }
  },
  {
   "cell_type": "code",
   "execution_count": 12,
   "outputs": [
    {
     "name": "stdout",
     "output_type": "stream",
     "text": [
      "Mean A: 248323881.7491\n",
      "Sd A: 5922428.90921644\n",
      "Mean A2: 17966980.2725\n",
      "Sd A2: 4674753.591909133\n",
      "Mean B: 10685877.8067\n",
      "Sd B: 117573.63355710036\n",
      "Mean B2: 79215143.9003\n",
      "Sd B2: 115910088.52585076\n"
     ]
    }
   ],
   "source": [
    "names = ['A', 'A2', 'B', 'B2']\n",
    "lis = []\n",
    "for df, n in zip([A, A2, B, B2], names):\n",
    "    m = df.mean()[0]\n",
    "    s = df.std()[0]\n",
    "    print('Mean {}: {}'.format(n, m))\n",
    "    print('Sd {}: {}'.format(n, s))\n",
    "    lis.append([m, s])\n",
    "\n",
    "df = pd.DataFrame(lis).T\n",
    "df.columns = names\n",
    "df.index = ['Mean', 'Std']\n",
    "df.to_csv(\"temp/MeanSD.csv\")"
   ],
   "metadata": {
    "collapsed": false,
    "pycharm": {
     "name": "#%%\n"
    }
   }
  }
 ],
 "metadata": {
  "kernelspec": {
   "display_name": "Python 3",
   "language": "python",
   "name": "python3"
  },
  "language_info": {
   "codemirror_mode": {
    "name": "ipython",
    "version": 2
   },
   "file_extension": ".py",
   "mimetype": "text/x-python",
   "name": "python",
   "nbconvert_exporter": "python",
   "pygments_lexer": "ipython2",
   "version": "2.7.6"
  }
 },
 "nbformat": 4,
 "nbformat_minor": 0
}