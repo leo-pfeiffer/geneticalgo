{
 "cells": [
  {
   "cell_type": "code",
   "execution_count": 1,
   "metadata": {
    "collapsed": true
   },
   "outputs": [],
   "source": [
    "import pandas as pd"
   ]
  },
  {
   "cell_type": "code",
   "execution_count": 2,
   "outputs": [],
   "source": [
    "A = pd.read_csv('temp/A.csv', index_col='Unnamed: 0')\n",
    "B = pd.read_csv('temp/B.csv', index_col='Unnamed: 0')"
   ],
   "metadata": {
    "collapsed": false,
    "pycharm": {
     "name": "#%%\n"
    }
   }
  },
  {
   "cell_type": "code",
   "execution_count": 3,
   "outputs": [
    {
     "name": "stdout",
     "output_type": "stream",
     "text": [
      "Mean A: 239447378.1089\n",
      "Sd A: 6004944.993321691\n",
      "Mean B: 215125284.7389\n",
      "Sd B: 221233574.38155517\n"
     ]
    }
   ],
   "source": [
    "names = ['A', 'B']\n",
    "lis = []\n",
    "for df, n in zip([A, B], names):\n",
    "    m = df.mean()[0]\n",
    "    s = df.std()[0]\n",
    "    print('Mean {}: {}'.format(n, m))\n",
    "    print('Sd {}: {}'.format(n, s))\n",
    "    lis.append([m, s])\n",
    "\n",
    "df = pd.DataFrame(lis).T\n",
    "df.columns = names\n",
    "df.index = ['Mean', 'Std']\n",
    "df.to_csv(\"temp/MeanSD.csv\")"
   ],
   "metadata": {
    "collapsed": false,
    "pycharm": {
     "name": "#%%\n"
    }
   }
  }
 ],
 "metadata": {
  "kernelspec": {
   "display_name": "Python 3",
   "language": "python",
   "name": "python3"
  },
  "language_info": {
   "codemirror_mode": {
    "name": "ipython",
    "version": 2
   },
   "file_extension": ".py",
   "mimetype": "text/x-python",
   "name": "python",
   "nbconvert_exporter": "python",
   "pygments_lexer": "ipython2",
   "version": "2.7.6"
  }
 },
 "nbformat": 4,
 "nbformat_minor": 0
}