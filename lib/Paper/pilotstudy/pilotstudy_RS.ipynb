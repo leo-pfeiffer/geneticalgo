{
 "cells": [
  {
   "cell_type": "code",
   "execution_count": 3,
   "outputs": [],
   "source": [
    "%matplotlib inline\n",
    "import pandas as pd\n",
    "import numpy as np\n",
    "import matplotlib.pyplot as plt"
   ],
   "metadata": {
    "collapsed": false,
    "pycharm": {
     "name": "#%% PilotStudy Random search process\n"
    }
   }
  },
  {
   "cell_type": "code",
   "execution_count": 9,
   "outputs": [],
   "source": [
    "s1 = pd.read_csv(\"results/RS/RS_S1.csv\", index_col=\"Unnamed: 0\")\n",
    "s2 = pd.read_csv(\"results/RS/RS_S2.csv\", index_col=\"Unnamed: 0\").iloc[20:40,].reset_index()\n",
    "s3 = pd.read_csv(\"results/RS/RS_S3.csv\", index_col=\"Unnamed: 0\").iloc[40:60,].reset_index()\n",
    "s4 = pd.read_csv(\"results/RS/RS_S4.csv\", index_col=\"Unnamed: 0\").iloc[60:80,].reset_index()"
   ],
   "metadata": {
    "collapsed": false,
    "pycharm": {
     "name": "#%%\n"
    }
   }
  },
  {
   "cell_type": "code",
   "execution_count": 10,
   "outputs": [],
   "source": [
    "rads = [0.05, 0.1, 0.15, 0.2, 0.25, 0.3, 0.35, 0.4, 0.45, 0.5,\n",
    "        0.55, 0.6, 0.65, 0.7, 0.75, 0.8, 0.85, 0.9, 0.95, 1]\n",
    "\n",
    "index = rads\n",
    "\n",
    "TSCC = pd.DataFrame([s1.TSCC, s2.TSCC, s3.TSCC, s4.TSCC]).T\n",
    "TSCC.columns = [\"S1\", \"S2\", \"S3\", \"S4\"]\n",
    "TSCC.index = index\n",
    "\n",
    "TSCC_rel = (TSCC - TSCC.min())/TSCC.min()\n",
    "TSCC_rel['MEAN'] = TSCC_rel.mean(axis=1)\n",
    "\n",
    "TSCC.to_csv(\"TSCC.csv\", header=True, index=True)\n",
    "TSCC_rel.to_csv(\"TSCC_rel.csv\", header=True, index=True)"
   ],
   "metadata": {
    "collapsed": false,
    "pycharm": {
     "name": "#%%\n"
    }
   }
  }
 ],
 "metadata": {
  "kernelspec": {
   "display_name": "Python 3",
   "language": "python",
   "name": "python3"
  },
  "language_info": {
   "codemirror_mode": {
    "name": "ipython",
    "version": 2
   },
   "file_extension": ".py",
   "mimetype": "text/x-python",
   "name": "python",
   "nbconvert_exporter": "python",
   "pygments_lexer": "ipython2",
   "version": "2.7.6"
  }
 },
 "nbformat": 4,
 "nbformat_minor": 0
}