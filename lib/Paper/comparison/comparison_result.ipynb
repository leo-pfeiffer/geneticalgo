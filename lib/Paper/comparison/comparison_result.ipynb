{
 "cells": [
  {
   "cell_type": "code",
   "execution_count": 1,
   "metadata": {
    "collapsed": true
   },
   "outputs": [],
   "source": [
    "import pandas as pd\n",
    "import numpy as np"
   ]
  },
  {
   "cell_type": "code",
   "execution_count": 14,
   "outputs": [
    {
     "name": "stdout",
     "output_type": "stream",
     "text": [
      "                 A1             A3             B2\n",
      "TSCC  454593.600000  373695.200000  696906.133333\n",
      "SD     82044.740557   53236.155105   66098.758112\n"
     ]
    }
   ],
   "source": [
    "a1 = pd.read_csv(\"Report_a1.csv\", index_col=\"Unnamed: 0\")\n",
    "a3 = pd.read_csv(\"Report_a3.csv\", index_col=\"Unnamed: 0\")\n",
    "b2 = pd.read_csv(\"Report_b2.csv\", index_col=\"Unnamed: 0\")\n",
    "\n",
    "a1c = pd.read_csv(\"Chromosomes_a1.csv\", index_col=\"Unnamed: 0\")\n",
    "a3c = pd.read_csv(\"Chromosomes_a3.csv\", index_col=\"Unnamed: 0\")\n",
    "b2c = pd.read_csv(\"Chromosomes_b2.csv\", index_col=\"Unnamed: 0\")\n",
    "\n",
    "a1base = a1c.iloc[a1c.iloc[:,0].argmin(),:]\n",
    "a3base = a3c.iloc[a3c.iloc[:,0].argmin(),:]\n",
    "b2base = b2c.iloc[b2c.iloc[:,0].argmin(),:]\n",
    "\n",
    "result = pd.concat([a1base, a3base, b2base], axis=1)\n",
    "result.columns = ['A1', 'A3', 'B2']\n",
    "result.index = ['TSCC', 'R', 'D', 'M', 'S']\n",
    "\n",
    "average = pd.concat([a1.iloc[-1,:], a3.iloc[-1,:], b2.iloc[-1,:]], axis=1)\n",
    "average.columns = ['A1', 'A3', 'B2']\n",
    "average.index = ['TSCC', 'SD']\n",
    "print(average)"
   ],
   "metadata": {
    "collapsed": false,
    "pycharm": {
     "name": "#%%\n"
    }
   }
  }
 ],
 "metadata": {
  "kernelspec": {
   "display_name": "Python 3",
   "language": "python",
   "name": "python3"
  },
  "language_info": {
   "codemirror_mode": {
    "name": "ipython",
    "version": 2
   },
   "file_extension": ".py",
   "mimetype": "text/x-python",
   "name": "python",
   "nbconvert_exporter": "python",
   "pygments_lexer": "ipython2",
   "version": "2.7.6"
  }
 },
 "nbformat": 4,
 "nbformat_minor": 0
}